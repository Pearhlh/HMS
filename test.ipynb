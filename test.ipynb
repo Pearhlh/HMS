{
 "cells": [
  {
   "cell_type": "code",
   "execution_count": null,
   "id": "9d617033",
   "metadata": {},
   "outputs": [],
   "source": []
  }
 ],
 "metadata": {
  "kernelspec": {
   "display_name": "ai2",
   "language": "python",
   "name": "python3"
  },
  "language_info": {
   "name": "python",
   "version": "3.10.16"
  }
 },
 "nbformat": 4,
 "nbformat_minor": 5
}
